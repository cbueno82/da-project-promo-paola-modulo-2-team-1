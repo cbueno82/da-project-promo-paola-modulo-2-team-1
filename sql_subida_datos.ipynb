{
 "cells": [
  {
   "cell_type": "code",
   "execution_count": 26,
   "metadata": {},
   "outputs": [],
   "source": [
    "import mysql.connector\n",
    "from mysql.connector import errorcode\n",
    "import pandas as pd\n",
    "from mysql.connector import IntegrityError"
   ]
  },
  {
   "cell_type": "code",
   "execution_count": 27,
   "metadata": {},
   "outputs": [
    {
     "name": "stdout",
     "output_type": "stream",
     "text": [
      "¡Conexión exitosa a MySQL!\n"
     ]
    }
   ],
   "source": [
    "try:\n",
    "    # Intenta hacer la conexión con la base de datos \n",
    "    cnx = mysql.connector.connect(\n",
    "        user='root',\n",
    "        password='AlumnaAdalab',\n",
    "        host='127.0.0.1',\n",
    "        database='music_stream'\n",
    "    )\n",
    "    print(\"¡Conexión exitosa a MySQL!\")\n",
    "except mysql.connector.Error as err:\n",
    "    # Si es un error de acceso denegado (ej. contraseña o usuario incorrecto)\n",
    "    if err.errno == errorcode.ER_ACCESS_DENIED_ERROR:\n",
    "        print(\"Algo está mal con tu nombre de usuario o contraseña.\") #\n",
    "    # Si la base de datos no existe\n",
    "    elif err.errno == errorcode.ER_BAD_DB_ERROR:\n",
    "        print(\"La base de datos no existe.\") #\n",
    "    # Para cualquier otro tipo de error\n",
    "    else:\n",
    "        print(err) #\n",
    "        print(\"Código de Error:\", err.errno) #\n",
    "        print(\"SQLSTATE\", err.sqlstate) #\n",
    "        print(\"Mensaje\", err.msg)"
   ]
  },
  {
   "cell_type": "code",
   "execution_count": 28,
   "metadata": {},
   "outputs": [
    {
     "name": "stdout",
     "output_type": "stream",
     "text": [
      "Tablas en la base de datos 'tienda':\n",
      "('artist',)\n",
      "('artist_genre',)\n",
      "('genre',)\n",
      "('similar_artist',)\n",
      "('track',)\n"
     ]
    }
   ],
   "source": [
    "mycursor = cnx.cursor() # Iniciamos el cursor\n",
    "\n",
    "mycursor.execute(\"SHOW TABLES\") # Ejecutamos la query\n",
    "\n",
    "# El cursor se convierte en un iterable al que podemos acceder, por ejemplo, con un bucle for\n",
    "print(\"Tablas en la base de datos 'tienda':\")\n",
    "for x in mycursor:\n",
    "    print(x) # Devuelve cada resultado como una tupla"
   ]
  },
  {
   "cell_type": "code",
   "execution_count": null,
   "metadata": {},
   "outputs": [],
   "source": [
    "# con esto subimos únicamente el nombre de los artistas desde los csv específicos de artistas.\n",
    "# es una primera prueba y también una forma de tener ya la PK name_artist para luego poder usarla\n",
    "# como FK en la subida de tracks, que es la más \"sencilla\" para una primera prueba\n",
    "\n",
    "# Cargar el CSV en un DataFrame\n",
    "csv = 'hiphop_artistas.csv' \n",
    "data = pd.read_csv(csv)\n",
    "\n",
    "# iterar en el dataframe e insertar en la tabla de MySQL\n",
    "for index, row in data.iterrows():\n",
    "    try:\n",
    "        mycursor.execute(\n",
    "            \"INSERT INTO artist (name_artist) VALUES (%s)\",\n",
    "            (row['0'],)\n",
    "        )\n",
    "    except IntegrityError as e:\n",
    "        if e.errno == 1062:\n",
    "            print(f\"Registro duplicado ignorado: {row['0']}\")\n",
    "        else:\n",
    "            print(f\"Error en fila {index}: {e}\")\n",
    "\n",
    "# hacer el commit\n",
    "cnx.commit()\n",
    "\n",
    "print(\"Datos importados\")"
   ]
  },
  {
   "cell_type": "code",
   "execution_count": 29,
   "metadata": {},
   "outputs": [
    {
     "name": "stdout",
     "output_type": "stream",
     "text": [
      "Datos importados\n"
     ]
    }
   ],
   "source": [
    "# aquí subimos toda la información de los tracks\n",
    "\n",
    "# Cargar el CSV en un DataFrame\n",
    "csv = 'indie_resultados.csv' \n",
    "data = pd.read_csv(csv)\n",
    "\n",
    "# ha estado dando problemas con valores NaN, esto es un intento de solucionarlo\n",
    "# con fillna lo que hacemos es sustituir valores NaN, que esto no lo interpreta,\n",
    "# por, en este caso, un 0\n",
    "data.fillna(0, inplace=True)\n",
    "\n",
    "# iterar en el dataframe e insertar en la tabla de MySQL\n",
    "for index, row in data.iterrows():\n",
    "   mycursor.execute(\n",
    "# aquí, como teníamos ya un número asignado a la id, metemos que haga update para \n",
    "# que no nos dé error por intentar llenar una columna que ya tiene información\n",
    "        \"\"\"\n",
    "    INSERT INTO track (name_artist, type, name, year, track_id)\n",
    "    VALUES (%s, %s, %s, %s, %s)\n",
    "    ON DUPLICATE KEY UPDATE\n",
    "        name_artist = VALUES(name_artist),\n",
    "        type = VALUES(type),\n",
    "        name = VALUES(name),\n",
    "        year = VALUES(year)\n",
    "    \"\"\",\n",
    "        (row['artista'], row['tipo'], row['nombre'], row['anio_lanzamiento'], row['id'])\n",
    "    )\n",
    "\n",
    "# hacer el commit\n",
    "cnx.commit()\n",
    "\n",
    "print(\"Datos importados\")\n",
    "\n",
    "# Cerrar la conexión\n",
    "mycursor.close()\n",
    "cnx.close()"
   ]
  }
 ],
 "metadata": {
  "kernelspec": {
   "display_name": "base",
   "language": "python",
   "name": "python3"
  },
  "language_info": {
   "codemirror_mode": {
    "name": "ipython",
    "version": 3
   },
   "file_extension": ".py",
   "mimetype": "text/x-python",
   "name": "python",
   "nbconvert_exporter": "python",
   "pygments_lexer": "ipython3",
   "version": "3.12.7"
  }
 },
 "nbformat": 4,
 "nbformat_minor": 2
}
