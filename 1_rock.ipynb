{
 "cells": [
  {
   "cell_type": "markdown",
   "id": "fbd20f34",
   "metadata": {},
   "source": [
    "# FASE 1: EXTRACCIÓN DATOS"
   ]
  },
  {
   "cell_type": "markdown",
   "id": "184f6f63",
   "metadata": {},
   "source": [
    "## Documentación de las APIs\n",
    "\n",
    "- Spotify \n",
    "    *   Documentacion Oficial - (https://developer.spotify.com/documentation/web-api)\n",
    "    *   Libreria de Spotipy - https://spotipy.readthedocs.io/en/2.24.0/ \n",
    "- Last.fm (https://www.last.fm/home)"
   ]
  },
  {
   "cell_type": "markdown",
   "id": "c6d050ee",
   "metadata": {},
   "source": [
    "### 1. Hay que crear la APP en la web Spotify for Developers, vamos a usar el client_id y el client_secret."
   ]
  },
  {
   "cell_type": "code",
   "execution_count": null,
   "id": "910702ac",
   "metadata": {},
   "outputs": [],
   "source": [
    "CLIENT_ID = 'tu client_id'\n",
    "CLIENT_SECRET = 'tu client_secret'"
   ]
  }
 ],
 "metadata": {
  "language_info": {
   "name": "python"
  }
 },
 "nbformat": 4,
 "nbformat_minor": 5
}
