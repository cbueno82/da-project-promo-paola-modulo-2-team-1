{
 "cells": [
  {
   "cell_type": "code",
   "execution_count": 2,
   "id": "6db4feb4",
   "metadata": {},
   "outputs": [
    {
     "name": "stdout",
     "output_type": "stream",
     "text": [
      "Collecting spotipy\n",
      "  Downloading spotipy-2.25.1-py3-none-any.whl.metadata (5.1 kB)\n",
      "Collecting redis>=3.5.3 (from spotipy)\n",
      "  Downloading redis-6.2.0-py3-none-any.whl.metadata (10 kB)\n",
      "Requirement already satisfied: requests>=2.25.0 in c:\\users\\esthe\\anaconda3\\lib\\site-packages (from spotipy) (2.32.3)\n",
      "Requirement already satisfied: urllib3>=1.26.0 in c:\\users\\esthe\\anaconda3\\lib\\site-packages (from spotipy) (2.4.0)\n",
      "Requirement already satisfied: charset-normalizer<4,>=2 in c:\\users\\esthe\\anaconda3\\lib\\site-packages (from requests>=2.25.0->spotipy) (3.3.2)\n",
      "Requirement already satisfied: idna<4,>=2.5 in c:\\users\\esthe\\anaconda3\\lib\\site-packages (from requests>=2.25.0->spotipy) (3.7)\n",
      "Requirement already satisfied: certifi>=2017.4.17 in c:\\users\\esthe\\anaconda3\\lib\\site-packages (from requests>=2.25.0->spotipy) (2025.4.26)\n",
      "Downloading spotipy-2.25.1-py3-none-any.whl (31 kB)\n",
      "Downloading redis-6.2.0-py3-none-any.whl (278 kB)\n",
      "Installing collected packages: redis, spotipy\n",
      "Successfully installed redis-6.2.0 spotipy-2.25.1\n",
      "Note: you may need to restart the kernel to use updated packages.\n"
     ]
    }
   ],
   "source": [
    "pip install spotipy"
   ]
  },
  {
   "cell_type": "code",
   "execution_count": 3,
   "id": "da246733",
   "metadata": {},
   "outputs": [],
   "source": [
    "import spotipy\n",
    "from spotipy.oauth2 import SpotifyClientCredentials"
   ]
  },
  {
   "cell_type": "code",
   "execution_count": 47,
   "id": "b18c14b3",
   "metadata": {},
   "outputs": [],
   "source": [
    "import pandas as pd\n",
    "import requests\n",
    "import re\n",
    "import json"
   ]
  },
  {
   "cell_type": "code",
   "execution_count": 6,
   "id": "5f77424b",
   "metadata": {},
   "outputs": [],
   "source": [
    "CLIENT_ID = 'f055a014c318407cae9ddfef089b23cd'\n",
    "CLIENT_SECRET = '86ff0623bc6448b095b62e702f039d1e'"
   ]
  },
  {
   "cell_type": "code",
   "execution_count": 7,
   "id": "5b16ecc5",
   "metadata": {},
   "outputs": [],
   "source": [
    "# Autenticación\n",
    "auth_manager = SpotifyClientCredentials(client_id=CLIENT_ID, client_secret=CLIENT_SECRET)\n",
    "sp = spotipy.Spotify(auth_manager=auth_manager)"
   ]
  },
  {
   "cell_type": "code",
   "execution_count": 8,
   "id": "2b205ece",
   "metadata": {},
   "outputs": [],
   "source": [
    "# Géneros seleccionados > 4 o 5 generos \n",
    "generos = ['indie']\n",
    "\n",
    "# Rango de años (2000 a 2002 en este ejemplo) > De 2 a 5 años\n",
    "anio_inicio = 2000\n",
    "anio_fin = 2002"
   ]
  },
  {
   "cell_type": "code",
   "execution_count": null,
   "id": "a89680d1",
   "metadata": {},
   "outputs": [],
   "source": [
    "query = \"genre:indie year:2000\" # Solo vamos a pasar el genero y el año en la query\n",
    "offset = 0 # El offset sirve para pasar página\n",
    "total_results = 0\n",
    "datos = sp.search(q=query, type='track', limit=50, offset=offset)"
   ]
  },
  {
   "cell_type": "code",
   "execution_count": 15,
   "id": "3ac0d283",
   "metadata": {},
   "outputs": [
    {
     "name": "stdout",
     "output_type": "stream",
     "text": [
      "Empezando extracción para el año: 2000\n",
      "genre:pop year:2000\n",
      "0\n",
      "50\n",
      "100\n",
      "150\n",
      "200\n",
      "250\n",
      "Empezando extracción para el año: 2001\n",
      "genre:pop year:2001\n",
      "0\n",
      "50\n",
      "100\n",
      "150\n",
      "200\n",
      "250\n",
      "Empezando extracción para el año: 2002\n",
      "genre:pop year:2002\n",
      "0\n",
      "50\n",
      "100\n",
      "150\n",
      "200\n",
      "250\n"
     ]
    }
   ],
   "source": [
    "bd_indie = []\n",
    "for i in range(2000, 2003):\n",
    "    print(f'Empezando extracción para el año: {i}')\n",
    "    query = f'genre:pop year:{i}'\n",
    "    print(query)\n",
    "    for x in range(0, 300, 50):\n",
    "        datos = sp.search(q = query, type = 'track', limit = 50, offset = x)\n",
    "        bd_indie.append(datos)\n",
    "        print(x)"
   ]
  },
  {
   "cell_type": "code",
   "execution_count": 36,
   "id": "3aa72eac",
   "metadata": {},
   "outputs": [],
   "source": [
    "resultados = []\n",
    "artistas = []\n",
    "for i in range(0,18):\n",
    "    for item in bd_indie[i][\"tracks\"][\"items\"][:50]:\n",
    "        resultados.append({\n",
    "           'artista':item['artists'][0]['name'],\n",
    "           'genero':'indie',\n",
    "           'tipo':item['type'],\n",
    "           'nombre':item['name'], #if item['name'] else \"Sin Datos\" > programación defensiva! (Usar try except!)\n",
    "           'anio_lanzamiento':item['album']['release_date'][:4], #if item['album']['release_date'] else \"Sin Datos\"\n",
    "           'id':item['id']})\n",
    "        artistas.append(item['artists'][0]['name'])"
   ]
  },
  {
   "cell_type": "code",
   "execution_count": 37,
   "id": "0e8bfc38",
   "metadata": {},
   "outputs": [
    {
     "data": {
      "text/plain": [
       "900"
      ]
     },
     "execution_count": 37,
     "metadata": {},
     "output_type": "execute_result"
    }
   ],
   "source": [
    "len(resultados)"
   ]
  },
  {
   "cell_type": "code",
   "execution_count": 38,
   "id": "2df6418d",
   "metadata": {},
   "outputs": [
    {
     "data": {
      "text/plain": [
       "900"
      ]
     },
     "execution_count": 38,
     "metadata": {},
     "output_type": "execute_result"
    }
   ],
   "source": [
    "len(artistas)"
   ]
  },
  {
   "cell_type": "code",
   "execution_count": 40,
   "id": "10881255",
   "metadata": {},
   "outputs": [],
   "source": [
    "artistas2 = set(artistas)"
   ]
  },
  {
   "cell_type": "code",
   "execution_count": 41,
   "id": "0757d5c1",
   "metadata": {},
   "outputs": [
    {
     "data": {
      "text/plain": [
       "593"
      ]
     },
     "execution_count": 41,
     "metadata": {},
     "output_type": "execute_result"
    }
   ],
   "source": [
    "len(artistas2)"
   ]
  },
  {
   "cell_type": "code",
   "execution_count": 42,
   "id": "fda2a6ca",
   "metadata": {},
   "outputs": [
    {
     "data": {
      "text/plain": [
       "set"
      ]
     },
     "execution_count": 42,
     "metadata": {},
     "output_type": "execute_result"
    }
   ],
   "source": [
    "type(artistas2)"
   ]
  },
  {
   "cell_type": "code",
   "execution_count": 43,
   "id": "fcba0ac0",
   "metadata": {},
   "outputs": [],
   "source": [
    "artistas = list(set(artistas))"
   ]
  },
  {
   "cell_type": "code",
   "execution_count": 44,
   "id": "3173d6e6",
   "metadata": {},
   "outputs": [
    {
     "data": {
      "text/plain": [
       "593"
      ]
     },
     "execution_count": 44,
     "metadata": {},
     "output_type": "execute_result"
    }
   ],
   "source": [
    "len(artistas)"
   ]
  },
  {
   "cell_type": "code",
   "execution_count": 48,
   "id": "c1e76059",
   "metadata": {},
   "outputs": [
    {
     "data": {
      "text/html": [
       "<div>\n",
       "<style scoped>\n",
       "    .dataframe tbody tr th:only-of-type {\n",
       "        vertical-align: middle;\n",
       "    }\n",
       "\n",
       "    .dataframe tbody tr th {\n",
       "        vertical-align: top;\n",
       "    }\n",
       "\n",
       "    .dataframe thead th {\n",
       "        text-align: right;\n",
       "    }\n",
       "</style>\n",
       "<table border=\"1\" class=\"dataframe\">\n",
       "  <thead>\n",
       "    <tr style=\"text-align: right;\">\n",
       "      <th></th>\n",
       "      <th>artista</th>\n",
       "      <th>genero</th>\n",
       "      <th>tipo</th>\n",
       "      <th>nombre</th>\n",
       "      <th>anio_lanzamiento</th>\n",
       "      <th>id</th>\n",
       "    </tr>\n",
       "  </thead>\n",
       "  <tbody>\n",
       "    <tr>\n",
       "      <th>0</th>\n",
       "      <td>Danza Invisible</td>\n",
       "      <td>indie</td>\n",
       "      <td>track</td>\n",
       "      <td>Lo que queda del amor</td>\n",
       "      <td>2000</td>\n",
       "      <td>1IlqUDoXCp4Wq5FoOPOCmS</td>\n",
       "    </tr>\n",
       "    <tr>\n",
       "      <th>1</th>\n",
       "      <td>Greta y los Garbo</td>\n",
       "      <td>indie</td>\n",
       "      <td>track</td>\n",
       "      <td>Todo</td>\n",
       "      <td>2000</td>\n",
       "      <td>0bmKhOy0RxziKWkgIsHSZ4</td>\n",
       "    </tr>\n",
       "    <tr>\n",
       "      <th>2</th>\n",
       "      <td>Víctor Manuelle</td>\n",
       "      <td>indie</td>\n",
       "      <td>track</td>\n",
       "      <td>He Tratado</td>\n",
       "      <td>2000</td>\n",
       "      <td>1BY0hau7A70wT7S8DsQyxE</td>\n",
       "    </tr>\n",
       "    <tr>\n",
       "      <th>3</th>\n",
       "      <td>Bonet de San Pedro</td>\n",
       "      <td>indie</td>\n",
       "      <td>track</td>\n",
       "      <td>Carita de Ángel (Fox Canción)</td>\n",
       "      <td>2000</td>\n",
       "      <td>2ddI27bwreqSLU2uKgSGT2</td>\n",
       "    </tr>\n",
       "    <tr>\n",
       "      <th>4</th>\n",
       "      <td>Meteosat</td>\n",
       "      <td>indie</td>\n",
       "      <td>track</td>\n",
       "      <td>Starship - English Version</td>\n",
       "      <td>2000</td>\n",
       "      <td>2nhtNzoIwzxgqMDHJjc9Tq</td>\n",
       "    </tr>\n",
       "  </tbody>\n",
       "</table>\n",
       "</div>"
      ],
      "text/plain": [
       "              artista genero   tipo                         nombre  \\\n",
       "0     Danza Invisible  indie  track          Lo que queda del amor   \n",
       "1   Greta y los Garbo  indie  track                           Todo   \n",
       "2     Víctor Manuelle  indie  track                     He Tratado   \n",
       "3  Bonet de San Pedro  indie  track  Carita de Ángel (Fox Canción)   \n",
       "4            Meteosat  indie  track     Starship - English Version   \n",
       "\n",
       "  anio_lanzamiento                      id  \n",
       "0             2000  1IlqUDoXCp4Wq5FoOPOCmS  \n",
       "1             2000  0bmKhOy0RxziKWkgIsHSZ4  \n",
       "2             2000  1BY0hau7A70wT7S8DsQyxE  \n",
       "3             2000  2ddI27bwreqSLU2uKgSGT2  \n",
       "4             2000  2nhtNzoIwzxgqMDHJjc9Tq  "
      ]
     },
     "execution_count": 48,
     "metadata": {},
     "output_type": "execute_result"
    }
   ],
   "source": [
    "df = pd.DataFrame(resultados)\n",
    "df.head()"
   ]
  },
  {
   "cell_type": "code",
   "execution_count": 50,
   "id": "8c5025bf",
   "metadata": {},
   "outputs": [],
   "source": [
    "df.to_csv('indie_resultados.csv')"
   ]
  },
  {
   "cell_type": "code",
   "execution_count": 51,
   "id": "b07e86f5",
   "metadata": {},
   "outputs": [
    {
     "data": {
      "text/html": [
       "<div>\n",
       "<style scoped>\n",
       "    .dataframe tbody tr th:only-of-type {\n",
       "        vertical-align: middle;\n",
       "    }\n",
       "\n",
       "    .dataframe tbody tr th {\n",
       "        vertical-align: top;\n",
       "    }\n",
       "\n",
       "    .dataframe thead th {\n",
       "        text-align: right;\n",
       "    }\n",
       "</style>\n",
       "<table border=\"1\" class=\"dataframe\">\n",
       "  <thead>\n",
       "    <tr style=\"text-align: right;\">\n",
       "      <th></th>\n",
       "      <th>0</th>\n",
       "    </tr>\n",
       "  </thead>\n",
       "  <tbody>\n",
       "    <tr>\n",
       "      <th>0</th>\n",
       "      <td>Dharampreet</td>\n",
       "    </tr>\n",
       "    <tr>\n",
       "      <th>1</th>\n",
       "      <td>Lâm Nhật Tiến</td>\n",
       "    </tr>\n",
       "    <tr>\n",
       "      <th>2</th>\n",
       "      <td>Satellites LV</td>\n",
       "    </tr>\n",
       "    <tr>\n",
       "      <th>3</th>\n",
       "      <td>Abida Parveen</td>\n",
       "    </tr>\n",
       "    <tr>\n",
       "      <th>4</th>\n",
       "      <td>Allen Clapp</td>\n",
       "    </tr>\n",
       "  </tbody>\n",
       "</table>\n",
       "</div>"
      ],
      "text/plain": [
       "               0\n",
       "0    Dharampreet\n",
       "1  Lâm Nhật Tiến\n",
       "2  Satellites LV\n",
       "3  Abida Parveen\n",
       "4    Allen Clapp"
      ]
     },
     "execution_count": 51,
     "metadata": {},
     "output_type": "execute_result"
    }
   ],
   "source": [
    "df_artistas = pd.DataFrame(artistas)\n",
    "df_artistas.head()"
   ]
  },
  {
   "cell_type": "code",
   "execution_count": 52,
   "id": "28a1d891",
   "metadata": {},
   "outputs": [],
   "source": [
    "df_artistas.to_csv('indie_artistas.csv')"
   ]
  }
 ],
 "metadata": {
  "kernelspec": {
   "display_name": "base",
   "language": "python",
   "name": "python3"
  },
  "language_info": {
   "codemirror_mode": {
    "name": "ipython",
    "version": 3
   },
   "file_extension": ".py",
   "mimetype": "text/x-python",
   "name": "python",
   "nbconvert_exporter": "python",
   "pygments_lexer": "ipython3",
   "version": "3.12.7"
  }
 },
 "nbformat": 4,
 "nbformat_minor": 5
}
