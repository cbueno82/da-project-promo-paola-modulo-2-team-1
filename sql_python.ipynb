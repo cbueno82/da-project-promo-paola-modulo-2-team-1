{
 "cells": [
  {
   "cell_type": "code",
   "execution_count": 4,
   "id": "c6035942",
   "metadata": {},
   "outputs": [
    {
     "name": "stdout",
     "output_type": "stream",
     "text": [
      "Requirement already satisfied: mysql-connector-python in c:\\users\\esthe\\anaconda3\\lib\\site-packages (9.3.0)\n",
      "Note: you may need to restart the kernel to use updated packages.\n"
     ]
    }
   ],
   "source": [
    "pip install mysql-connector-python"
   ]
  },
  {
   "cell_type": "code",
   "execution_count": 5,
   "id": "4d0250cc",
   "metadata": {},
   "outputs": [],
   "source": [
    "import mysql.connector\n",
    "from mysql.connector import errorcode"
   ]
  },
  {
   "cell_type": "code",
   "execution_count": 9,
   "id": "e088080f",
   "metadata": {},
   "outputs": [],
   "source": [
    "# Hacemos la conexión con el servidor\n",
    "cnx = mysql.connector.connect(\n",
    "    user='root',\n",
    "    password='AlumnaAdalab',\n",
    "    host='127.0.0.1',\n",
    "    database='sakila'\n",
    ")"
   ]
  },
  {
   "cell_type": "code",
   "execution_count": 10,
   "id": "588f989a",
   "metadata": {},
   "outputs": [
    {
     "name": "stdout",
     "output_type": "stream",
     "text": [
      "<mysql.connector.connection_cext.CMySQLConnection object at 0x00000223140527E0>\n",
      "Conexión cerrada.\n"
     ]
    }
   ],
   "source": [
    "# Imprimimos el objeto de conexión para verificar\n",
    "print(cnx)\n",
    "\n",
    "# ¡Importante! Siempre debemos cerrar la conexión cuando ya no la necesitemos\n",
    "cnx.close()\n",
    "print(\"Conexión cerrada.\")"
   ]
  },
  {
   "cell_type": "code",
   "execution_count": null,
   "id": "c396a8dc",
   "metadata": {},
   "outputs": [],
   "source": [
    "# list(df.itertuples(index=False, name=None))"
   ]
  },
  {
   "cell_type": "code",
   "execution_count": 11,
   "id": "0e9efe62",
   "metadata": {},
   "outputs": [
    {
     "name": "stdout",
     "output_type": "stream",
     "text": [
      "¡Conexión exitosa a MySQL!\n",
      "Conexión cerrada.\n"
     ]
    }
   ],
   "source": [
    "try:\n",
    "    # Intenta hacer la conexión con la base de datos 'tienda'\n",
    "    cnx = mysql.connector.connect(\n",
    "        user='root',\n",
    "        password='AlumnaAdalab',\n",
    "        host='127.0.0.1',\n",
    "        database='sakila'\n",
    "    )\n",
    "    print(\"¡Conexión exitosa a MySQL!\") #\n",
    "\n",
    "except mysql.connector.Error as err:\n",
    "    # Si es un error de acceso denegado (ej. contraseña o usuario incorrecto)\n",
    "    if err.errno == errorcode.ER_ACCESS_DENIED_ERROR:\n",
    "        print(\"Algo está mal con tu nombre de usuario o contraseña.\") #\n",
    "    # Si la base de datos no existe\n",
    "    elif err.errno == errorcode.ER_BAD_DB_ERROR:\n",
    "        print(\"La base de datos no existe.\") #\n",
    "    # Para cualquier otro tipo de error\n",
    "    else:\n",
    "        print(err) #\n",
    "        print(\"Código de Error:\", err.errno) #\n",
    "        print(\"SQLSTATE\", err.sqlstate) #\n",
    "        print(\"Mensaje\", err.msg) #\n",
    "else:\n",
    "    # Si la conexión fue exitosa, cierra la conexión\n",
    "    cnx.close()\n",
    "    print(\"Conexión cerrada.\")"
   ]
  },
  {
   "cell_type": "code",
   "execution_count": 12,
   "id": "02890b8e",
   "metadata": {},
   "outputs": [
    {
     "name": "stdout",
     "output_type": "stream",
     "text": [
      "Tablas en la base de datos 'sakila':\n",
      "('actor',)\n",
      "('actor_info',)\n",
      "('address',)\n",
      "('category',)\n",
      "('city',)\n",
      "('country',)\n",
      "('customer',)\n",
      "('customer_list',)\n",
      "('film',)\n",
      "('film_actor',)\n",
      "('film_category',)\n",
      "('film_list',)\n",
      "('film_text',)\n",
      "('inventory',)\n",
      "('language',)\n",
      "('nicer_but_slower_film_list',)\n",
      "('payment',)\n",
      "('rental',)\n",
      "('sales_by_film_category',)\n",
      "('sales_by_store',)\n",
      "('staff',)\n",
      "('staff_list',)\n",
      "('store',)\n",
      "('track',)\n"
     ]
    }
   ],
   "source": [
    "cnx = mysql.connector.connect(\n",
    "    user='root',\n",
    "    password='AlumnaAdalab',\n",
    "    host='127.0.0.1',\n",
    "    database='sakila'\n",
    ")\n",
    "\n",
    "mycursor = cnx.cursor() # Iniciamos el cursor\n",
    "\n",
    "mycursor.execute(\"SHOW TABLES\") # Ejecutamos la query\n",
    "\n",
    "# El cursor se convierte en un iterable al que podemos acceder, por ejemplo, con un bucle for\n",
    "print(\"Tablas en la base de datos 'sakila':\")\n",
    "for x in mycursor:\n",
    "    print(x) # Devuelve cada resultado como una tupla\n",
    "\n",
    "cnx.close()"
   ]
  },
  {
   "cell_type": "code",
   "execution_count": 15,
   "id": "68337936",
   "metadata": {},
   "outputs": [
    {
     "name": "stdout",
     "output_type": "stream",
     "text": [
      "1146 (42S02): Table 'sakila.tracks' doesn't exist\n"
     ]
    }
   ],
   "source": [
    "cnx = mysql.connector.connect(\n",
    "    user='root',\n",
    "    password='AlumnaAdalab',\n",
    "    host='127.0.0.1',\n",
    "    database='sakila'\n",
    ")\n",
    "\n",
    "mycursor = cnx.cursor()\n",
    "\n",
    "sql_multi = \"INSERT INTO tracks (track_id, name) VALUES (%s, %s)\"\n",
    "val_multi = [\n",
    "    ('2DcZQZM2vA0rWEpKFTcwQs', 'The Conegut Sempre Igual'),\n",
    "    ('6sR4FSzbMlKtZrNELf6sX2', 'Amak Ezkondu Ninduen'),\n",
    "    ('66VqLrzrkAF04aIFe4OjHf', 'Torno a Ser Jo')\n",
    "] # Lista de tuplas\n",
    "\n",
    "try:\n",
    "    mycursor.executemany(sql_multi, val_multi) #\n",
    "    cnx.commit()\n",
    "    print(mycursor.rowcount, \"registro/s insertado/s.\") #\n",
    "except mysql.connector.Error as err:\n",
    "    print(err)\n",
    "\n",
    "cnx.close()"
   ]
  }
 ],
 "metadata": {
  "kernelspec": {
   "display_name": "base",
   "language": "python",
   "name": "python3"
  },
  "language_info": {
   "codemirror_mode": {
    "name": "ipython",
    "version": 3
   },
   "file_extension": ".py",
   "mimetype": "text/x-python",
   "name": "python",
   "nbconvert_exporter": "python",
   "pygments_lexer": "ipython3",
   "version": "3.12.7"
  }
 },
 "nbformat": 4,
 "nbformat_minor": 5
}
