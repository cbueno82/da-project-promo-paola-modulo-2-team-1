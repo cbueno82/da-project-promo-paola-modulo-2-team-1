{
 "cells": [
  {
   "cell_type": "markdown",
   "id": "a10990cf",
   "metadata": {},
   "source": [
    "## Extraer información de API Last FM\n",
    "\n",
    "- Hay que ir a la página de Last FM y registrarse para obtener una API KEY. https://www.last.fm/api \n",
    "- Consultar la documentación de la API de Last FM para saber como hacer las consultas.https://www.last.fm/api \n",
    "- La dirección URL de la API de Last FM es: http://ws.audioscrobbler.com/2.0/"
   ]
  },
  {
   "cell_type": "code",
   "execution_count": 1,
   "id": "1e7a7c24",
   "metadata": {},
   "outputs": [],
   "source": [
    "import requests"
   ]
  },
  {
   "cell_type": "code",
   "execution_count": 2,
   "id": "4e949de0",
   "metadata": {},
   "outputs": [],
   "source": [
    "import pandas as pd"
   ]
  },
  {
   "cell_type": "code",
   "execution_count": 3,
   "id": "8f8f4d8f",
   "metadata": {},
   "outputs": [],
   "source": [
    "# Este script consulta los artistas en base a una lista que le pasemos (que traemos desde la consulta de spotify). \n",
    "# Devuelve Artista, Biography, Listeners, Playcount, Similar Artists\n",
    "\n",
    "# API Key obtenida de last.fm\n",
    "API_KEY = '9e5692d440bb47dc2917211142fce605'  # Reemplaza con tu API Key válida de Last.fm.\n",
    "BASE_URL = 'http://ws.audioscrobbler.com/2.0/' # esta base siempre es la misma."
   ]
  },
  {
   "cell_type": "code",
   "execution_count": 4,
   "id": "38be286a",
   "metadata": {},
   "outputs": [],
   "source": [
    "df_artistas = pd.read_csv('pop_artistas.csv', index_col = 0)"
   ]
  },
  {
   "cell_type": "code",
   "execution_count": 5,
   "id": "b59a9ad6",
   "metadata": {},
   "outputs": [
    {
     "data": {
      "text/html": [
       "<div>\n",
       "<style scoped>\n",
       "    .dataframe tbody tr th:only-of-type {\n",
       "        vertical-align: middle;\n",
       "    }\n",
       "\n",
       "    .dataframe tbody tr th {\n",
       "        vertical-align: top;\n",
       "    }\n",
       "\n",
       "    .dataframe thead th {\n",
       "        text-align: right;\n",
       "    }\n",
       "</style>\n",
       "<table border=\"1\" class=\"dataframe\">\n",
       "  <thead>\n",
       "    <tr style=\"text-align: right;\">\n",
       "      <th></th>\n",
       "      <th>0</th>\n",
       "    </tr>\n",
       "  </thead>\n",
       "  <tbody>\n",
       "    <tr>\n",
       "      <th>0</th>\n",
       "      <td>Ildikó Keresztes</td>\n",
       "    </tr>\n",
       "    <tr>\n",
       "      <th>1</th>\n",
       "      <td>Amalia</td>\n",
       "    </tr>\n",
       "    <tr>\n",
       "      <th>2</th>\n",
       "      <td>Elsie Bayron</td>\n",
       "    </tr>\n",
       "    <tr>\n",
       "      <th>3</th>\n",
       "      <td>One Ring Zero</td>\n",
       "    </tr>\n",
       "    <tr>\n",
       "      <th>4</th>\n",
       "      <td>Gal George Gjurin</td>\n",
       "    </tr>\n",
       "  </tbody>\n",
       "</table>\n",
       "</div>"
      ],
      "text/plain": [
       "                   0\n",
       "0   Ildikó Keresztes\n",
       "1             Amalia\n",
       "2       Elsie Bayron\n",
       "3      One Ring Zero\n",
       "4  Gal George Gjurin"
      ]
     },
     "execution_count": 5,
     "metadata": {},
     "output_type": "execute_result"
    }
   ],
   "source": [
    "df_artistas.head()"
   ]
  },
  {
   "cell_type": "code",
   "execution_count": 6,
   "id": "b4e27914",
   "metadata": {},
   "outputs": [
    {
     "data": {
      "text/plain": [
       "pandas.core.frame.DataFrame"
      ]
     },
     "execution_count": 6,
     "metadata": {},
     "output_type": "execute_result"
    }
   ],
   "source": [
    "type(df_artistas) "
   ]
  },
  {
   "cell_type": "code",
   "execution_count": 7,
   "id": "b1c8c434",
   "metadata": {},
   "outputs": [],
   "source": [
    "artist_data = df_artistas['0'].tolist()"
   ]
  },
  {
   "cell_type": "code",
   "execution_count": 8,
   "id": "9f7ad5bb",
   "metadata": {},
   "outputs": [
    {
     "data": {
      "text/plain": [
       "list"
      ]
     },
     "execution_count": 8,
     "metadata": {},
     "output_type": "execute_result"
    }
   ],
   "source": [
    "type(artist_data)"
   ]
  },
  {
   "cell_type": "code",
   "execution_count": 9,
   "id": "d27628d6",
   "metadata": {},
   "outputs": [
    {
     "data": {
      "text/plain": [
       "612"
      ]
     },
     "execution_count": 9,
     "metadata": {},
     "output_type": "execute_result"
    }
   ],
   "source": [
    "len(artist_data)"
   ]
  },
  {
   "cell_type": "code",
   "execution_count": 10,
   "id": "dcd0cdf5",
   "metadata": {},
   "outputs": [],
   "source": [
    "data_info = []\n",
    "\n",
    "for artist in artist_data: \n",
    "    params_info = {\n",
    "        'method': 'artist.getinfo', \n",
    "        'artist': artist, \n",
    "        'api_key': API_KEY, \n",
    "        'format': 'json'\n",
    "        }\n",
    "    response_info = requests.get(BASE_URL, params = params_info)\n",
    "    data_info.append(response_info.json())\n"
   ]
  },
  {
   "cell_type": "code",
   "execution_count": 11,
   "id": "05593824",
   "metadata": {},
   "outputs": [
    {
     "data": {
      "text/plain": [
       "612"
      ]
     },
     "execution_count": 11,
     "metadata": {},
     "output_type": "execute_result"
    }
   ],
   "source": [
    "len(data_info)"
   ]
  },
  {
   "cell_type": "code",
   "execution_count": 12,
   "id": "2ce9019d",
   "metadata": {},
   "outputs": [],
   "source": [
    "data_artista = []\n",
    "\n",
    "for i in range(0, len(data_info)):\n",
    "    similar_artist = []\n",
    "    for sim in range(0, len(data_info[i]['artist']['similar']['artist'])): \n",
    "        similar_artist.append(data_info[i]['artist']['similar']['artist'][sim]['name'])\n",
    "    similar_artist = tuple(similar_artist)\n",
    "    artista ={\n",
    "        'Artist': data_info[i]['artist']['name'], \n",
    "        'Biography': data_info[i]['artist'].get('bio', {}).get('summary'), \n",
    "        'Listeners': data_info[i]['artist'].get('stats', {}).get('listeners', 'Sin datos'), \n",
    "        'Playcount': data_info[i]['artist'].get('stats', {}).get('playcount', 'Sin datos'),\n",
    "        'Similar': similar_artist\n",
    "        }\n",
    "    data_artista.append(artista)"
   ]
  },
  {
   "cell_type": "code",
   "execution_count": 13,
   "id": "41a9f7f1",
   "metadata": {},
   "outputs": [
    {
     "data": {
      "text/plain": [
       "612"
      ]
     },
     "execution_count": 13,
     "metadata": {},
     "output_type": "execute_result"
    }
   ],
   "source": [
    "len(data_artista)"
   ]
  },
  {
   "cell_type": "code",
   "execution_count": 14,
   "id": "4c374f6a",
   "metadata": {},
   "outputs": [
    {
     "data": {
      "text/plain": [
       "{'Artist': 'Pasión Vega',\n",
       " 'Biography': 'Pasión Vega lanzó su primer álbum en 2002. Después alcanzó el Disco de Oro con el disco Banderas de nadie (2003) y repitió Oro con Flaca de amor (2005) antes de publicar su CD+DVD en directo Pasión en el Maestranza (2005), grabado durante un concierto en Sevilla. Su cuarto álbum es La reina del Pay Pay (2006), con el que consiguió su tercer Disco de Oro en España, antes de editar el recopilatorio Pura Pasión (2007). Con estos álbumes, Pasión Vega ha ganado cuatro Premios de la Música y un Premio Amigo, entre otros galardones. <a href=\"https://www.last.fm/music/+noredirect/Pasi%C3%B3n+Vega\">Read more on Last.fm</a>',\n",
       " 'Listeners': '24858',\n",
       " 'Playcount': '176142',\n",
       " 'Similar': ('Carlos Cano',\n",
       "  'Diana Navarro',\n",
       "  'Rocio Jurado',\n",
       "  'Falete',\n",
       "  'Concha Piquer')}"
      ]
     },
     "execution_count": 14,
     "metadata": {},
     "output_type": "execute_result"
    }
   ],
   "source": [
    "data_artista[55]"
   ]
  },
  {
   "cell_type": "code",
   "execution_count": 15,
   "id": "bee8c6aa",
   "metadata": {},
   "outputs": [],
   "source": [
    "df_lastfm_pop = pd.DataFrame(data_artista)"
   ]
  },
  {
   "cell_type": "code",
   "execution_count": 16,
   "id": "b45bcf8d",
   "metadata": {},
   "outputs": [
    {
     "data": {
      "text/html": [
       "<div>\n",
       "<style scoped>\n",
       "    .dataframe tbody tr th:only-of-type {\n",
       "        vertical-align: middle;\n",
       "    }\n",
       "\n",
       "    .dataframe tbody tr th {\n",
       "        vertical-align: top;\n",
       "    }\n",
       "\n",
       "    .dataframe thead th {\n",
       "        text-align: right;\n",
       "    }\n",
       "</style>\n",
       "<table border=\"1\" class=\"dataframe\">\n",
       "  <thead>\n",
       "    <tr style=\"text-align: right;\">\n",
       "      <th></th>\n",
       "      <th>Artist</th>\n",
       "      <th>Biography</th>\n",
       "      <th>Listeners</th>\n",
       "      <th>Playcount</th>\n",
       "      <th>Similar</th>\n",
       "    </tr>\n",
       "  </thead>\n",
       "  <tbody>\n",
       "    <tr>\n",
       "      <th>0</th>\n",
       "      <td>Ildikó Keresztes</td>\n",
       "      <td>&lt;a href=\"https://www.last.fm/music/Ildik%C3%B...</td>\n",
       "      <td>311</td>\n",
       "      <td>4258</td>\n",
       "      <td>(Veca Janicsák, Pál Dénes, usnk, Viktor Kiraly...</td>\n",
       "    </tr>\n",
       "    <tr>\n",
       "      <th>1</th>\n",
       "      <td>Amalia</td>\n",
       "      <td>Amalia is a mononym of, at least, three artist...</td>\n",
       "      <td>8073</td>\n",
       "      <td>59523</td>\n",
       "      <td>(Opolopo, SoulParlor, Vindahl, Opolopo &amp; Amali...</td>\n",
       "    </tr>\n",
       "    <tr>\n",
       "      <th>2</th>\n",
       "      <td>Elsie Bayron</td>\n",
       "      <td>&lt;a href=\"https://www.last.fm/music/Elsie+Bayr...</td>\n",
       "      <td>285</td>\n",
       "      <td>1028</td>\n",
       "      <td>(Orquesta Gran Casino, Rafael Medina, Los Xey,...</td>\n",
       "    </tr>\n",
       "    <tr>\n",
       "      <th>3</th>\n",
       "      <td>One Ring Zero</td>\n",
       "      <td>One Ring Zero is Michael Hearst and Joshua Cam...</td>\n",
       "      <td>4332</td>\n",
       "      <td>44075</td>\n",
       "      <td>(Die Hard Cafe, The Gertrudes, Dream Brother, ...</td>\n",
       "    </tr>\n",
       "    <tr>\n",
       "      <th>4</th>\n",
       "      <td>Gal George Gjurin</td>\n",
       "      <td>&lt;a href=\"https://www.last.fm/music/Gal+George...</td>\n",
       "      <td>46</td>\n",
       "      <td>425</td>\n",
       "      <td>(Severa Gjurin, Kokosy, MRFY, Jan Plestenjak, ...</td>\n",
       "    </tr>\n",
       "  </tbody>\n",
       "</table>\n",
       "</div>"
      ],
      "text/plain": [
       "              Artist                                          Biography  \\\n",
       "0   Ildikó Keresztes   <a href=\"https://www.last.fm/music/Ildik%C3%B...   \n",
       "1             Amalia  Amalia is a mononym of, at least, three artist...   \n",
       "2       Elsie Bayron   <a href=\"https://www.last.fm/music/Elsie+Bayr...   \n",
       "3      One Ring Zero  One Ring Zero is Michael Hearst and Joshua Cam...   \n",
       "4  Gal George Gjurin   <a href=\"https://www.last.fm/music/Gal+George...   \n",
       "\n",
       "  Listeners Playcount                                            Similar  \n",
       "0       311      4258  (Veca Janicsák, Pál Dénes, usnk, Viktor Kiraly...  \n",
       "1      8073     59523  (Opolopo, SoulParlor, Vindahl, Opolopo & Amali...  \n",
       "2       285      1028  (Orquesta Gran Casino, Rafael Medina, Los Xey,...  \n",
       "3      4332     44075  (Die Hard Cafe, The Gertrudes, Dream Brother, ...  \n",
       "4        46       425  (Severa Gjurin, Kokosy, MRFY, Jan Plestenjak, ...  "
      ]
     },
     "execution_count": 16,
     "metadata": {},
     "output_type": "execute_result"
    }
   ],
   "source": [
    "df_lastfm_pop.head()"
   ]
  },
  {
   "cell_type": "code",
   "execution_count": 17,
   "id": "38ac10fd",
   "metadata": {},
   "outputs": [],
   "source": [
    "df_lastfm_pop.to_csv('pop_lastfm.csv')"
   ]
  }
 ],
 "metadata": {
  "kernelspec": {
   "display_name": "base",
   "language": "python",
   "name": "python3"
  },
  "language_info": {
   "codemirror_mode": {
    "name": "ipython",
    "version": 3
   },
   "file_extension": ".py",
   "mimetype": "text/x-python",
   "name": "python",
   "nbconvert_exporter": "python",
   "pygments_lexer": "ipython3",
   "version": "3.12.7"
  }
 },
 "nbformat": 4,
 "nbformat_minor": 5
}
