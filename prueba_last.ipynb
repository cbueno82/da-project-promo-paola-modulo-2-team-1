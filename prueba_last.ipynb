{
 "cells": [
  {
   "cell_type": "markdown",
   "metadata": {},
   "source": [
    "- Application name \tMy First API\n",
    "- API key \tf01b4421cf646ed49cf5fa6e8fb8fad6\n",
    "- Shared secret \tb8e801a9932d2dccc4ee869e1b613840\n",
    "- Registered to \tcbueno82\n",
    "****\n",
    "\n",
    "- Bio artista\n",
    "- Popularidad y estadísticas de reproducción\n",
    "- Artistas similares"
   ]
  },
  {
   "cell_type": "code",
   "execution_count": 2,
   "metadata": {},
   "outputs": [],
   "source": [
    "import requests\n",
    "import csv\n",
    "import pandas as pd"
   ]
  },
  {
   "cell_type": "code",
   "execution_count": 3,
   "metadata": {},
   "outputs": [],
   "source": [
    "API_KEY = 'f01b4421cf646ed49cf5fa6e8fb8fad6'\n",
    "BASE_URL = 'http://ws.audioscrobbler.com/2.0/'"
   ]
  },
  {
   "cell_type": "markdown",
   "metadata": {},
   "source": [
    "Aquí sacamos la info de los artistas a un CSV (partiendo de otro CSV) e imprimimos tres de los artistas para ver que el resultado es el que queremos. "
   ]
  },
  {
   "cell_type": "code",
   "execution_count": null,
   "metadata": {},
   "outputs": [],
   "source": [
    "input_filename = 'pop_artistas.csv' # de aquí sacamos la lista de artistas, así que hay que cambiarlo\n",
    "output_filename = 'pop_artistas_lastfm.csv' # aquí almacenamos la información de los nuevos artistas, así que hay que cambiarlo\n",
    "\n",
    "artists = [] # aquí vamos a guardar los nombres de los artistas\n",
    "with open(input_filename, newline='', encoding='utf-8') as csvfile:\n",
    "    reader = csv.reader(csvfile) # que lea el archivo como tabla\n",
    "    next(reader)  # saltar la primera fila\n",
    "    for row in reader:\n",
    "        if len(row) > 1: # para estar seguros de que la fila tiene dos columnas (número y artista)\n",
    "            artists.append(row[1].strip()) # metemos solo el nombre del artista de la segunda columna\n",
    "\n",
    "results = [] # aquí vamos guardando los resultados\n",
    "\n",
    "for artist_name in artists: # por cada artista que leemos\n",
    "\n",
    "    # aquí metemos un mensaje con las instrucciones para last.fm (no estoy segura de que sea 100% necesario)\n",
    "\n",
    "    params = {\n",
    "        'method': 'artist.getinfo',\n",
    "        'artist': artist_name,\n",
    "        'api_key': API_KEY,\n",
    "        'format': 'json'\n",
    "    }\n",
    "\n",
    "    response = requests.get(BASE_URL, params=params, timeout=10)\n",
    "    response.raise_for_status()  # si error, para aquí (no se ha hecho aún control de errores para tenerlo lo más simple posible)\n",
    "    data = response.json() # aquí tenemos el resultado de pedirle la info a last.fm convertido en diccionario json\n",
    "\n",
    "    if 'artist' not in data: # si no hay info sobre el artista se sigue con el siguiente y se avisa\n",
    "        print(f\"No se encontró información para {artist_name}\")\n",
    "        continue # se continúa al siguiente artista \n",
    "\n",
    "    artist_info = data['artist'] # aquí extraemos la respuesta\n",
    "\n",
    "    # y aquí seleccionamos los datos que vamos a usar:\n",
    "\n",
    "    name = artist_info['name'] \n",
    "    bio = artist_info['bio']['summary']\n",
    "    bio = bio.split('<a href=')[0].strip() # esto es para eliminar enlaces que aparecían en las bio\n",
    "    stats = artist_info['stats']\n",
    "    listeners = stats['listeners']\n",
    "    playcount = stats['playcount']\n",
    "\n",
    "    similar_crudo = artist_info['similar']['artist'][:5] # esto para solo coger los 5 artistas más parecidos\n",
    "    similar_artists = tuple(f\"{name}-{sim['name']}\" for sim in similar_crudo) # y esto para agrupar en tuplas, aunque no lo tengo claro\n",
    "\n",
    "    # esto para un clásico apendeo: \n",
    "\n",
    "    results.append({\n",
    "        'name': name,\n",
    "        'listeners': listeners,\n",
    "        'playcount': playcount,\n",
    "        'bio': bio,\n",
    "        'similar_artists': \", \".join(similar_artists)\n",
    "    })\n",
    "\n",
    "# Ccreamos DataFrame con pandas\n",
    "df = pd.DataFrame(results)\n",
    "\n",
    "# guardamos DataFrame a CSV (con cabecera)\n",
    "df.to_csv(output_filename, index=False, encoding='utf-8')\n",
    "\n",
    "# imprimimos solo 3 ejemplos para que no se vuelva loco, pero para pdoer echarle un ojo:\n",
    "\n",
    "for i, row in df.head(3).iterrows():\n",
    "    print(\"Nombre:\", row['name'])\n",
    "    print(\"Oyentes:\", row['listeners'])\n",
    "    print(\"Reproducciones:\", row['playcount'])\n",
    "    print(\"Bio:\", row['bio'][:200], \"...\") # para la prueba no necesitamos todo el texto\n",
    "    print(\"Similares:\", row['similar_artists'])\n",
    "    print() # para poder diferenciar artistas con un espacio"
   ]
  },
  {
   "cell_type": "markdown",
   "metadata": {},
   "source": [
    "PRUEBA: Aquí para ver artistas sueltos sin CSV ni DF. Solo sacamos BIO. Lo mantengo para tener un ejemplo de función por si luego queremos refinar el código principal y tranformarlo en funciones."
   ]
  },
  {
   "cell_type": "code",
   "execution_count": null,
   "metadata": {},
   "outputs": [],
   "source": [
    "def get_artist_info(artist_name):\n",
    "    # Parámetros de la consulta\n",
    "    params = {\n",
    "        'method': 'artist.getinfo',\n",
    "        'artist': artist_name,\n",
    "        'api_key': API_KEY,\n",
    "        'format': 'json'\n",
    "    }\n",
    "    \n",
    "    response = requests.get(BASE_URL, params=params)\n",
    "    \n",
    "    # Comprobar que la petición fue exitosa\n",
    "    if response.status_code == 200:\n",
    "        data = response.json()\n",
    "        if 'error' not in data:\n",
    "            # Extraer información del artista\n",
    "            artist_info = data['artist']\n",
    "            name = artist_info['name']\n",
    "            bio = artist_info['bio']['summary']\n",
    "            print(f\"Información sobre {name}:\\n{bio}\")\n",
    "        else:\n",
    "            print(f\"Error: {data['message']}\")\n",
    "    else:\n",
    "        print(\"Error en la solicitud\")\n",
    "\n",
    "# Llamar a la función con el nombre de un artista\n",
    "get_artist_info('Estopa')"
   ]
  }
 ],
 "metadata": {
  "kernelspec": {
   "display_name": "base",
   "language": "python",
   "name": "python3"
  },
  "language_info": {
   "codemirror_mode": {
    "name": "ipython",
    "version": 3
   },
   "file_extension": ".py",
   "mimetype": "text/x-python",
   "name": "python",
   "nbconvert_exporter": "python",
   "pygments_lexer": "ipython3",
   "version": "3.12.7"
  }
 },
 "nbformat": 4,
 "nbformat_minor": 2
}
