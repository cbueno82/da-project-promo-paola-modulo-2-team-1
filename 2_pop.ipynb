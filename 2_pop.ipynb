{
 "cells": [
  {
   "cell_type": "code",
   "execution_count": 1,
   "id": "e62a1e45",
   "metadata": {},
   "outputs": [],
   "source": [
    "## Librerias\n",
    "\n",
    "#!pip install spotipy \n",
    "import spotipy\n",
    "from spotipy.oauth2 import SpotifyClientCredentials"
   ]
  },
  {
   "cell_type": "code",
   "execution_count": 99,
   "id": "11953481",
   "metadata": {},
   "outputs": [],
   "source": [
    "import pandas as pd"
   ]
  },
  {
   "cell_type": "code",
   "execution_count": 100,
   "id": "08526fe1",
   "metadata": {},
   "outputs": [],
   "source": [
    "import requests"
   ]
  },
  {
   "cell_type": "markdown",
   "id": "6e7883de",
   "metadata": {},
   "source": [
    "### 1. Hay que crear la APP en la web Spotify for Developers, vamos a usar el client_id y el client_secret."
   ]
  },
  {
   "cell_type": "code",
   "execution_count": 2,
   "id": "326c9ba9",
   "metadata": {},
   "outputs": [],
   "source": [
    "CLIENT_ID = 'db890b417c2b4533bb433997e77ef54c'\n",
    "CLIENT_SECRET = '16968d5378ec48ea980dd0eec52ed891'"
   ]
  },
  {
   "cell_type": "code",
   "execution_count": 3,
   "id": "6dcb5358",
   "metadata": {},
   "outputs": [],
   "source": [
    "# Autenticación\n",
    "auth_manager = SpotifyClientCredentials(client_id=CLIENT_ID, client_secret=CLIENT_SECRET)\n",
    "sp = spotipy.Spotify(auth_manager=auth_manager)"
   ]
  },
  {
   "cell_type": "code",
   "execution_count": 67,
   "id": "735e651e",
   "metadata": {},
   "outputs": [
    {
     "name": "stdout",
     "output_type": "stream",
     "text": [
      "Empezando extracción para el año: 2000\n",
      "genre:pop year:2000\n",
      "0\n",
      "50\n",
      "100\n",
      "150\n",
      "200\n",
      "250\n",
      "Empezando extracción para el año: 2001\n",
      "genre:pop year:2001\n",
      "0\n",
      "50\n",
      "100\n",
      "150\n",
      "200\n",
      "250\n",
      "Empezando extracción para el año: 2002\n",
      "genre:pop year:2002\n",
      "0\n",
      "50\n",
      "100\n",
      "150\n",
      "200\n",
      "250\n"
     ]
    }
   ],
   "source": [
    "bd_pop = []\n",
    "for i in range(2000, 2003):  \n",
    "    print(f'Empezando extracción para el año: {i}') \n",
    "    query = f'genre:pop year:{i}'\n",
    "    print(query)\n",
    "    for x in range(0, 300, 50):\n",
    "        datos = sp.search(q = query, type = 'track', limit = 50, offset = x)\n",
    "        bd_pop.append(datos)\n",
    "        print(x)"
   ]
  },
  {
   "cell_type": "code",
   "execution_count": 97,
   "id": "e734d737",
   "metadata": {},
   "outputs": [],
   "source": [
    "resultados = []\n",
    "artistas = []\n",
    "\n",
    "for i in range(0,18):\n",
    "    for item in bd_pop[i][\"tracks\"][\"items\"][:50]:\n",
    "        resultados.append({\n",
    "           'artista':item['artists'][0]['name'],\n",
    "           'genero':'pop',\n",
    "           'tipo':item['type'],\n",
    "           'nombre':item['name'], #if item['name'] else \"Sin Datos\" > programación defensiva! (Usar try except!)\n",
    "           'anio_lanzamiento':item['album']['release_date'][:4], #if item['album']['release_date'] else \"Sin Datos\"\n",
    "           'id':item['id']})\n",
    "        artistas.append(item['artists'][0]['name'])"
   ]
  },
  {
   "cell_type": "code",
   "execution_count": 101,
   "id": "f8bb3f72",
   "metadata": {},
   "outputs": [
    {
     "data": {
      "text/plain": [
       "900"
      ]
     },
     "execution_count": 101,
     "metadata": {},
     "output_type": "execute_result"
    }
   ],
   "source": [
    "len(artistas)"
   ]
  },
  {
   "cell_type": "code",
   "execution_count": null,
   "id": "19575456",
   "metadata": {},
   "outputs": [],
   "source": [
    "artistas = list(set(artistas))"
   ]
  },
  {
   "cell_type": "code",
   "execution_count": 107,
   "id": "d09a1cde",
   "metadata": {},
   "outputs": [
    {
     "data": {
      "text/plain": [
       "601"
      ]
     },
     "execution_count": 107,
     "metadata": {},
     "output_type": "execute_result"
    }
   ],
   "source": [
    "len(artistas)"
   ]
  },
  {
   "cell_type": "code",
   "execution_count": 108,
   "id": "93202108",
   "metadata": {},
   "outputs": [],
   "source": [
    "df_pop = pd.DataFrame(resultados)"
   ]
  },
  {
   "cell_type": "code",
   "execution_count": 109,
   "id": "40ebd29c",
   "metadata": {},
   "outputs": [
    {
     "data": {
      "text/html": [
       "<div>\n",
       "<style scoped>\n",
       "    .dataframe tbody tr th:only-of-type {\n",
       "        vertical-align: middle;\n",
       "    }\n",
       "\n",
       "    .dataframe tbody tr th {\n",
       "        vertical-align: top;\n",
       "    }\n",
       "\n",
       "    .dataframe thead th {\n",
       "        text-align: right;\n",
       "    }\n",
       "</style>\n",
       "<table border=\"1\" class=\"dataframe\">\n",
       "  <thead>\n",
       "    <tr style=\"text-align: right;\">\n",
       "      <th></th>\n",
       "      <th>artista</th>\n",
       "      <th>genero</th>\n",
       "      <th>tipo</th>\n",
       "      <th>nombre</th>\n",
       "      <th>anio_lanzamiento</th>\n",
       "      <th>id</th>\n",
       "    </tr>\n",
       "  </thead>\n",
       "  <tbody>\n",
       "    <tr>\n",
       "      <th>0</th>\n",
       "      <td>Danza Invisible</td>\n",
       "      <td>pop</td>\n",
       "      <td>track</td>\n",
       "      <td>Lo que queda del amor</td>\n",
       "      <td>2000</td>\n",
       "      <td>1IlqUDoXCp4Wq5FoOPOCmS</td>\n",
       "    </tr>\n",
       "    <tr>\n",
       "      <th>1</th>\n",
       "      <td>Greta y los Garbo</td>\n",
       "      <td>pop</td>\n",
       "      <td>track</td>\n",
       "      <td>Todo</td>\n",
       "      <td>2000</td>\n",
       "      <td>0bmKhOy0RxziKWkgIsHSZ4</td>\n",
       "    </tr>\n",
       "    <tr>\n",
       "      <th>2</th>\n",
       "      <td>Víctor Manuelle</td>\n",
       "      <td>pop</td>\n",
       "      <td>track</td>\n",
       "      <td>He Tratado</td>\n",
       "      <td>2000</td>\n",
       "      <td>1BY0hau7A70wT7S8DsQyxE</td>\n",
       "    </tr>\n",
       "    <tr>\n",
       "      <th>3</th>\n",
       "      <td>Bonet de San Pedro</td>\n",
       "      <td>pop</td>\n",
       "      <td>track</td>\n",
       "      <td>Carita de Ángel (Fox Canción)</td>\n",
       "      <td>2000</td>\n",
       "      <td>2ddI27bwreqSLU2uKgSGT2</td>\n",
       "    </tr>\n",
       "    <tr>\n",
       "      <th>4</th>\n",
       "      <td>Meteosat</td>\n",
       "      <td>pop</td>\n",
       "      <td>track</td>\n",
       "      <td>Starship - English Version</td>\n",
       "      <td>2000</td>\n",
       "      <td>2nhtNzoIwzxgqMDHJjc9Tq</td>\n",
       "    </tr>\n",
       "  </tbody>\n",
       "</table>\n",
       "</div>"
      ],
      "text/plain": [
       "              artista genero   tipo                         nombre  \\\n",
       "0     Danza Invisible    pop  track          Lo que queda del amor   \n",
       "1   Greta y los Garbo    pop  track                           Todo   \n",
       "2     Víctor Manuelle    pop  track                     He Tratado   \n",
       "3  Bonet de San Pedro    pop  track  Carita de Ángel (Fox Canción)   \n",
       "4            Meteosat    pop  track     Starship - English Version   \n",
       "\n",
       "  anio_lanzamiento                      id  \n",
       "0             2000  1IlqUDoXCp4Wq5FoOPOCmS  \n",
       "1             2000  0bmKhOy0RxziKWkgIsHSZ4  \n",
       "2             2000  1BY0hau7A70wT7S8DsQyxE  \n",
       "3             2000  2ddI27bwreqSLU2uKgSGT2  \n",
       "4             2000  2nhtNzoIwzxgqMDHJjc9Tq  "
      ]
     },
     "execution_count": 109,
     "metadata": {},
     "output_type": "execute_result"
    }
   ],
   "source": [
    "df_pop.head()"
   ]
  },
  {
   "cell_type": "code",
   "execution_count": null,
   "id": "5817e434",
   "metadata": {},
   "outputs": [],
   "source": [
    "df_pop_artistas = pd.DataFrame(artistas)"
   ]
  },
  {
   "cell_type": "code",
   "execution_count": 111,
   "id": "34f146c1",
   "metadata": {},
   "outputs": [
    {
     "data": {
      "text/html": [
       "<div>\n",
       "<style scoped>\n",
       "    .dataframe tbody tr th:only-of-type {\n",
       "        vertical-align: middle;\n",
       "    }\n",
       "\n",
       "    .dataframe tbody tr th {\n",
       "        vertical-align: top;\n",
       "    }\n",
       "\n",
       "    .dataframe thead th {\n",
       "        text-align: right;\n",
       "    }\n",
       "</style>\n",
       "<table border=\"1\" class=\"dataframe\">\n",
       "  <thead>\n",
       "    <tr style=\"text-align: right;\">\n",
       "      <th></th>\n",
       "      <th>0</th>\n",
       "    </tr>\n",
       "  </thead>\n",
       "  <tbody>\n",
       "    <tr>\n",
       "      <th>0</th>\n",
       "      <td>Neal Hefti</td>\n",
       "    </tr>\n",
       "    <tr>\n",
       "      <th>1</th>\n",
       "      <td>Carlos Jose</td>\n",
       "    </tr>\n",
       "    <tr>\n",
       "      <th>2</th>\n",
       "      <td>Karen Busck</td>\n",
       "    </tr>\n",
       "    <tr>\n",
       "      <th>3</th>\n",
       "      <td>Alma Cogan</td>\n",
       "    </tr>\n",
       "    <tr>\n",
       "      <th>4</th>\n",
       "      <td>Stratos Dionisiou</td>\n",
       "    </tr>\n",
       "  </tbody>\n",
       "</table>\n",
       "</div>"
      ],
      "text/plain": [
       "                   0\n",
       "0         Neal Hefti\n",
       "1        Carlos Jose\n",
       "2        Karen Busck\n",
       "3         Alma Cogan\n",
       "4  Stratos Dionisiou"
      ]
     },
     "execution_count": 111,
     "metadata": {},
     "output_type": "execute_result"
    }
   ],
   "source": [
    "df_pop_artistas.head()"
   ]
  },
  {
   "cell_type": "code",
   "execution_count": 112,
   "id": "ac08ce67",
   "metadata": {},
   "outputs": [],
   "source": [
    "df_pop_artistas.to_csv('pop_artistas.csv')"
   ]
  },
  {
   "cell_type": "code",
   "execution_count": 113,
   "id": "e67abb49",
   "metadata": {},
   "outputs": [],
   "source": [
    "df_pop.to_csv('pop_resultados.csv')"
   ]
  }
 ],
 "metadata": {
  "kernelspec": {
   "display_name": "base",
   "language": "python",
   "name": "python3"
  },
  "language_info": {
   "codemirror_mode": {
    "name": "ipython",
    "version": 3
   },
   "file_extension": ".py",
   "mimetype": "text/x-python",
   "name": "python",
   "nbconvert_exporter": "python",
   "pygments_lexer": "ipython3",
   "version": "3.12.7"
  }
 },
 "nbformat": 4,
 "nbformat_minor": 5
}
